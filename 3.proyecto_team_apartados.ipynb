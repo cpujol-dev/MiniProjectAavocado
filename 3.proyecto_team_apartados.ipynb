{
 "cells": [
  {
   "cell_type": "markdown",
   "id": "d2124dfe",
   "metadata": {},
   "source": [
    "### 3. **Elasticidad del Precio**\n",
    "**Resumen:** El análisis de elasticidad precio-demanda permite evaluar cómo los cambios en los precios afectan la demanda de aguacates. Comprender la elasticidad puede ayudar a formular estrategias de precios más efectivas.\n",
    "\n",
    "La fórmula de elasticidad precio-demanda es:\n",
    "\n",
    "$$\n",
    "E_d = \\frac{\\% \\text{Cambio en la cantidad demandada}}{\\% \\text{Cambio en el precio}} = \\frac{\\Delta Q / Q}{\\Delta P / P}\n",
    "$$"
   ]
  },
  {
   "cell_type": "markdown",
   "id": "f96c9d78",
   "metadata": {},
   "source": [
    "1. **Elasticidad Precio-Demanda por Año:**\n",
    "   - **Uso de Datos:** Usa las columnas `AveragePrice` y `Total Volume`.\n",
    "   - **Esperado:** Calcula la elasticidad del precio de la demanda para cada año.\n",
    "     - Calcula la variación porcentual de `Total Volume` y `AveragePrice` utilizando `pd.pct_change()`.\n",
    "     - Utiliza la fórmula de elasticidad para determinar la sensibilidad de la demanda respecto al precio.\n",
    "     - Presenta los resultados en un gráfico de líneas usando `plt.plot()` para mostrar la elasticidad por año."
   ]
  },
  {
   "cell_type": "code",
   "execution_count": null,
   "id": "65f6e44f",
   "metadata": {},
   "outputs": [],
   "source": [
    "import pandas as pd\n",
    "import numpy as np\n",
    "import seaborn as sns\n",
    "import matplotlib.pyplot as plt\n",
    "from statsmodels.tsa.seasonal import seasonal_decompose\n",
    "df = pd.read_csv(\"avocado.csv\")\n",
    "df_cp = df.copy()\n",
    "df_cp['Date'] = pd.to_datetime(df_cp['Date'])"
   ]
  },
  {
   "cell_type": "markdown",
   "id": "5df1b9e2",
   "metadata": {},
   "source": [
    "2. **Comparación de Elasticidad en Diferentes Mercados:**\n",
    "   - **Uso de Datos:** Utiliza las columnas `Total Volume` y `AveragePrice`.\n",
    "   - **Esperado:** Calcula la elasticidad del precio de la demanda en diferentes regiones.\n",
    "     - Agrupa los datos por `region` y calcula la elasticidad para cada región utilizando `pd.pct_change()`.\n",
    "     - Presenta un gráfico de barras que muestre la elasticidad por región usando `plt.bar()`."
   ]
  },
  {
   "cell_type": "code",
   "execution_count": null,
   "id": "9e94cedd",
   "metadata": {},
   "outputs": [],
   "source": [
    "import pandas as pd\n",
    "import numpy as np\n",
    "import seaborn as sns\n",
    "import matplotlib.pyplot as plt\n",
    "from statsmodels.tsa.seasonal import seasonal_decompose\n",
    "df = pd.read_csv(\"avocado.csv\")\n",
    "df_cp = df.copy()\n",
    "df_cp['Date'] = pd.to_datetime(df_cp['Date'])"
   ]
  },
  {
   "cell_type": "markdown",
   "id": "cbfe1031",
   "metadata": {},
   "source": [
    "3. **Elasticidad a Nivel de Tipo de Bolsa:**\n",
    "   - **Uso de Datos:** Usa las columnas `AveragePrice` y `Total Bags`.\n",
    "   - **Esperado:** Calcula la elasticidad del precio de la demanda específica para cada tipo de bolsa.\n",
    "     - Suma los volúmenes de ventas por tipo de bolsa utilizando `groupby()` y `sum()`.\n",
    "     - Calcula la elasticidad para cada tipo y presenta los resultados en un gráfico comparativo usando `plt.bar()`."
   ]
  },
  {
   "cell_type": "code",
   "execution_count": null,
   "id": "6d039ae9",
   "metadata": {},
   "outputs": [],
   "source": [
    "import pandas as pd\n",
    "import numpy as np\n",
    "import seaborn as sns\n",
    "import matplotlib.pyplot as plt\n",
    "from statsmodels.tsa.seasonal import seasonal_decompose\n",
    "df = pd.read_csv(\"avocado.csv\")\n",
    "df_cp = df.copy()\n",
    "df_cp['Date'] = pd.to_datetime(df_cp['Date'])"
   ]
  },
  {
   "cell_type": "markdown",
   "id": "67b2cc9c",
   "metadata": {},
   "source": [
    "4. **Análisis de Elasticidad Comparativa entre Orgánicos y Convencionales:**\n",
    "   - **Uso de Datos:** Usa las columnas `AveragePrice`, `Total Volume` y `type`.\n",
    "   - **Esperado:** Compara la elasticidad de la demanda entre aguacates orgánicos y convencionales.\n",
    "     - Agrupa los datos por `type` y calcula la elasticidad utilizando `pd.pct_change()`.\n",
    "     - Presenta un gráfico que muestre la diferencia en elasticidad entre los dos tipos usando `plt.bar()`."
   ]
  },
  {
   "cell_type": "code",
   "execution_count": null,
   "id": "d9761660",
   "metadata": {},
   "outputs": [],
   "source": [
    "import pandas as pd\n",
    "import numpy as np\n",
    "import seaborn as sns\n",
    "import matplotlib.pyplot as plt\n",
    "from statsmodels.tsa.seasonal import seasonal_decompose\n",
    "df = pd.read_csv(\"avocado.csv\")\n",
    "df_cp = df.copy()\n",
    "df_cp['Date'] = pd.to_datetime(df_cp['Date'])"
   ]
  },
  {
   "cell_type": "markdown",
   "id": "9d152e3b",
   "metadata": {},
   "source": [
    "5. **Análisis de la Elasticidad Precios-Ventas:**\n",
    "   - **Uso de Datos:** Usa las columnas `AveragePrice` y `Total Volume`.\n",
    "   - **Esperado:** Examina cómo las variaciones en `AveragePrice` afectan a `Total Volume`.\n",
    "     - Realiza un análisis de la relación entre estas dos variables calculando la elasticidad.\n",
    "     - Presenta un gráfico de dispersión que muestre la relación y discute la tendencia observada utilizando `plt.scatter()` y `plt.plot()`."
   ]
  },
  {
   "cell_type": "code",
   "execution_count": null,
   "id": "1effc903",
   "metadata": {},
   "outputs": [],
   "source": [
    "import pandas as pd\n",
    "import numpy as np\n",
    "import seaborn as sns\n",
    "import matplotlib.pyplot as plt\n",
    "from statsmodels.tsa.seasonal import seasonal_decompose\n",
    "df = pd.read_csv(\"avocado.csv\")\n",
    "df_cp = df.copy()\n",
    "df_cp['Date'] = pd.to_datetime(df_cp['Date'])"
   ]
  }
 ],
 "metadata": {
  "kernelspec": {
   "display_name": "usr",
   "language": "python",
   "name": "python3"
  },
  "language_info": {
   "codemirror_mode": {
    "name": "ipython",
    "version": 3
   },
   "file_extension": ".py",
   "mimetype": "text/x-python",
   "name": "python",
   "nbconvert_exporter": "python",
   "pygments_lexer": "ipython3",
   "version": "3.12.3"
  }
 },
 "nbformat": 4,
 "nbformat_minor": 5
}
