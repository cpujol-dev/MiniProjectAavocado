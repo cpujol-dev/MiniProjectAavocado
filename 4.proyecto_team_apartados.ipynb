{
 "cells": [
  {
   "cell_type": "markdown",
   "id": "4fbd5564",
   "metadata": {},
   "source": [
    "### 4. **Análisis de Cohortes**\n",
    "**Resumen:** El análisis de cohortes permite agrupar datos según características específicas y observar cómo se comportan a lo largo del tiempo. Se centra en cohortes de precios y ventas para entender las dinámicas del mercado."
   ]
  },
  {
   "cell_type": "markdown",
   "id": "3cc92a2b",
   "metadata": {},
   "source": [
    "1. **Cohortes Basadas en Precios Promedios Trimestrales:**\n",
    "   - **Uso de Datos:** Usa las columnas `AveragePrice`, `Total Volume` y `Date`.\n",
    "   - **Esperado:** Crea cohortes trimestrales y analiza cambios en precios y volúmenes.\n",
    "     - Agrupa los datos por trimestre usando `pd.Grouper` con `freq='Q'`.\n",
    "     - Calcula el promedio de `AveragePrice` y suma `Total Volume` para cada cohorte.\n",
    "     - Visualiza los resultados en un gráfico de líneas que muestre la evolución de las cohortes."
   ]
  },
  {
   "cell_type": "code",
   "execution_count": null,
   "id": "3daaa5a4",
   "metadata": {},
   "outputs": [],
   "source": [
    "import pandas as pd\n",
    "import numpy as np\n",
    "import seaborn as sns\n",
    "import matplotlib.pyplot as plt\n",
    "from statsmodels.tsa.seasonal import seasonal_decompose\n",
    "df = pd.read_csv(\"avocado.csv\")\n",
    "df_cp = df.copy()\n",
    "df_cp['Date'] = pd.to_datetime(df_cp['Date'])"
   ]
  },
  {
   "cell_type": "markdown",
   "id": "3d95c8cb",
   "metadata": {},
   "source": [
    "2. **Cohortes por Región y Fecha:**\n",
    "   - **Uso de Datos:** Utiliza las columnas `AveragePrice`, `Total Volume`, `region` y `Date`.\n",
    "   - **Esperado:** Analiza cómo varían las cohortes de diferentes regiones.\n",
    "     - Agrupa los datos por `region` y `Date` usando `groupby()`.\n",
    "     - Calcula el promedio de precios y volumen para cada cohorte.\n",
    "     - Presenta los resultados en gráficos de barras que muestren comparaciones entre regiones."
   ]
  },
  {
   "cell_type": "code",
   "execution_count": null,
   "id": "3b063e76",
   "metadata": {},
   "outputs": [],
   "source": [
    "import pandas as pd\n",
    "import numpy as np\n",
    "import seaborn as sns\n",
    "import matplotlib.pyplot as plt\n",
    "from statsmodels.tsa.seasonal import seasonal_decompose\n",
    "df = pd.read_csv(\"avocado.csv\")\n",
    "df_cp = df.copy()\n",
    "df_cp['Date'] = pd.to_datetime(df_cp['Date'])"
   ]
  },
  {
   "cell_type": "markdown",
   "id": "dbeb4111",
   "metadata": {},
   "source": [
    "3. **Análisis de Cohortes en Función del Tipo de Bolsa:**\n",
    "   - **Uso de Datos:** Usa las columnas `Total Bags`, `Small Bags`, `Large Bags`, `XLarge Bags` y `Date`.\n",
    "   - **Esperado:** Examina cómo se comportan las diferentes cohortes según el tipo de bolsa.\n",
    "     - Agrupa los datos por tipo de bolsa y `Date`.\n",
    "     - Calcula el volumen de ventas total y muestra los resultados en un gráfico de líneas."
   ]
  },
  {
   "cell_type": "code",
   "execution_count": null,
   "id": "d5e3ff34",
   "metadata": {},
   "outputs": [],
   "source": [
    "import pandas as pd\n",
    "import numpy as np\n",
    "import seaborn as sns\n",
    "import matplotlib.pyplot as plt\n",
    "from statsmodels.tsa.seasonal import seasonal_decompose\n",
    "df = pd.read_csv(\"avocado.csv\")\n",
    "df_cp = df.copy()\n",
    "df_cp['Date'] = pd.to_datetime(df_cp['Date'])"
   ]
  },
  {
   "cell_type": "markdown",
   "id": "fabe6535",
   "metadata": {},
   "source": [
    "4. **Cohortes de Clientes Basadas en Ventas:**\n",
    "   - **Uso de Datos:** Usa las columnas `Total Volume`, `Date` y `region`.\n",
    "   - **Esperado:** Analiza el comportamiento de las cohortes según el volumen de ventas.\n",
    "     - Clasifica los clientes según su volumen de compras.\n",
    "     - Visualiza las cohortes en gráficos de líneas o barras que muestren el comportamiento de compra a lo largo del tiempo."
   ]
  },
  {
   "cell_type": "code",
   "execution_count": null,
   "id": "10437c62",
   "metadata": {},
   "outputs": [],
   "source": [
    "import pandas as pd\n",
    "import numpy as np\n",
    "import seaborn as sns\n",
    "import matplotlib.pyplot as plt\n",
    "from statsmodels.tsa.seasonal import seasonal_decompose\n",
    "df = pd.read_csv(\"avocado.csv\")\n",
    "df_cp = df.copy()\n",
    "df_cp['Date'] = pd.to_datetime(df_cp['Date'])"
   ]
  },
  {
   "cell_type": "markdown",
   "id": "1e15099d",
   "metadata": {},
   "source": [
    "5. **Evaluación de Retención de Ventas por Cohorte:**\n",
    "   - **Uso de Datos:** Usa las columnas `Total Volume` y `Date`.\n",
    "   - **Esperado:** Estudia cómo se retienen las ventas en cohortes a lo largo de un año.\n",
    "     - Agrupa los datos por mes y cohortes.\n",
    "     - Calcula la retención de ventas y visualiza los resultados en un gráfico de líneas que muestre las tasas de retención."
   ]
  },
  {
   "cell_type": "code",
   "execution_count": null,
   "id": "cdc1b9e9",
   "metadata": {},
   "outputs": [],
   "source": [
    "import pandas as pd\n",
    "import numpy as np\n",
    "import seaborn as sns\n",
    "import matplotlib.pyplot as plt\n",
    "from statsmodels.tsa.seasonal import seasonal_decompose\n",
    "df = pd.read_csv(\"avocado.csv\")\n",
    "df_cp = df.copy()\n",
    "df_cp['Date'] = pd.to_datetime(df_cp['Date'])"
   ]
  }
 ],
 "metadata": {
  "kernelspec": {
   "display_name": "usr",
   "language": "python",
   "name": "python3"
  },
  "language_info": {
   "codemirror_mode": {
    "name": "ipython",
    "version": 3
   },
   "file_extension": ".py",
   "mimetype": "text/x-python",
   "name": "python",
   "nbconvert_exporter": "python",
   "pygments_lexer": "ipython3",
   "version": "3.12.3"
  }
 },
 "nbformat": 4,
 "nbformat_minor": 5
}
