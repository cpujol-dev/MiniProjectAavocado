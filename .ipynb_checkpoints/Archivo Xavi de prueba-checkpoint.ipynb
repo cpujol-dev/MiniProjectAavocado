{
 "cells": [
  {
   "cell_type": "code",
   "execution_count": 2,
   "id": "d7ad5f58-46d5-41f0-bdf4-4921e6661d9d",
   "metadata": {},
   "outputs": [
    {
     "name": "stdout",
     "output_type": "stream",
     "text": [
      "Hello aguacate\n",
      "Prueba 2 aguacate\n"
     ]
    }
   ],
   "source": [
    "print('Hello aguacate')\n",
    "print('Prueba 2 aguacate')"
   ]
  }
 ],
 "metadata": {
  "kernelspec": {
   "display_name": "Python 3 (ipykernel)",
   "language": "python",
   "name": "python3"
  },
  "language_info": {
   "codemirror_mode": {
    "name": "ipython",
    "version": 3
   },
   "file_extension": ".py",
   "mimetype": "text/x-python",
   "name": "python",
   "nbconvert_exporter": "python",
   "pygments_lexer": "ipython3",
   "version": "3.10.12"
  }
 },
 "nbformat": 4,
 "nbformat_minor": 5
}
