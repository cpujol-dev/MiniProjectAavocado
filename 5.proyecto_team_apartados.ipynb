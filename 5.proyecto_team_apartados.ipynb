{
 "cells": [
  {
   "cell_type": "markdown",
   "id": "c2343bfd",
   "metadata": {},
   "source": [
    "### 5. **Análisis de Correlación y Regresión**\n",
    "**Resumen:** Se centra en la identificación de relaciones significativas entre las variables numéricas y el desarrollo de modelos de regresión para hacer predicciones basadas en esas relaciones."
   ]
  },
  {
   "cell_type": "markdown",
   "id": "202ae8bd",
   "metadata": {},
   "source": [
    "1. **Matriz de Correlación:** \n",
    "   - **Uso de Datos:** Utiliza las columnas numéricas del DataFrame (p. ej., `AveragePrice`, `Total Volume`, `4046`, `4225`, `4770`, `Total Bags`).\n",
    "   - **Esperado:** \n",
    "     - Importa las librerías necesarias: `import seaborn as sns` y `import matplotlib.pyplot as plt`.\n",
    "     - Calcula la matriz de correlación usando el método `.corr()` del DataFrame.\n",
    "     - Visualiza la matriz utilizando `sns.heatmap()`. \n",
    "     - Anota las correlaciones más significativas y discute su posible impacto en el análisis."
   ]
  },
  {
   "cell_type": "code",
   "execution_count": null,
   "id": "e7c56f5b",
   "metadata": {},
   "outputs": [],
   "source": [
    "import pandas as pd\n",
    "import numpy as np\n",
    "import seaborn as sns\n",
    "import matplotlib.pyplot as plt\n",
    "from statsmodels.tsa.seasonal import seasonal_decompose\n",
    "df = pd.read_csv(\"avocado.csv\")\n",
    "df_cp = df.copy()\n",
    "df_cp['Date'] = pd.to_datetime(df_cp['Date'])"
   ]
  },
  {
   "cell_type": "markdown",
   "id": "73531acc",
   "metadata": {},
   "source": [
    "\n",
    "2. **Análisis de Dispersión entre Variables Clave:** \n",
    "   - **Uso de Datos:** Selecciona variables numéricas de interés como `AveragePrice` y `Total Volume`.\n",
    "   - **Esperado:** \n",
    "     - Importa las librerías necesarias: `import seaborn as sns` y `import matplotlib.pyplot as plt`.\n",
    "     - Crea un gráfico de dispersión con `sns.scatterplot()` para visualizar la relación entre `AveragePrice` y `Total Volume`.\n",
    "     - Añade una línea de regresión utilizando `sns.regplot()` para ilustrar las tendencias.\n",
    "     - Compara el ajuste de una regresión lineal frente a una polinómica."
   ]
  },
  {
   "cell_type": "code",
   "execution_count": null,
   "id": "ffaa3e61",
   "metadata": {},
   "outputs": [],
   "source": [
    "import pandas as pd\n",
    "import numpy as np\n",
    "import seaborn as sns\n",
    "import matplotlib.pyplot as plt\n",
    "from statsmodels.tsa.seasonal import seasonal_decompose\n",
    "df = pd.read_csv(\"avocado.csv\")\n",
    "df_cp = df.copy()\n",
    "df_cp['Date'] = pd.to_datetime(df_cp['Date'])"
   ]
  },
  {
   "cell_type": "markdown",
   "id": "ed23d254",
   "metadata": {},
   "source": [
    "3. **Predicciones Mensuales Usando Datos Trimestrales:**\n",
    "   - **Uso de Datos:** Agrupa datos por trimestres y segmenta en meses utilizando `Date`, `AveragePrice`, y `Total Volume`.\n",
    "   - **Esperado:** \n",
    "     - Convierte la columna `Date` a tipo datetime si es necesario.\n",
    "     - Agrupa los datos por trimestre y calcula el promedio de `AveragePrice` y `Total Volume`.\n",
    "     - Utiliza los datos de los primeros 2 meses de un trimestre para predecir el precio del tercer mes.\n",
    "     - Compara los resultados de las predicciones con los precios reales.\n",
    "     - Evalúa la precisión de tus predicciones utilizando métricas como R² y RMSE.\n"
   ]
  },
  {
   "cell_type": "code",
   "execution_count": null,
   "id": "b2513902",
   "metadata": {},
   "outputs": [],
   "source": [
    "import pandas as pd\n",
    "import numpy as np\n",
    "import seaborn as sns\n",
    "import matplotlib.pyplot as plt\n",
    "from statsmodels.tsa.seasonal import seasonal_decompose\n",
    "df = pd.read_csv(\"avocado.csv\")\n",
    "df_cp = df.copy()\n",
    "df_cp['Date'] = pd.to_datetime(df_cp['Date'])"
   ]
  },
  {
   "cell_type": "markdown",
   "id": "fb0eb2d0",
   "metadata": {},
   "source": [
    "4. **Predicciones Trimestrales:**\n",
    "   - **Uso de Datos:** Agrupa los datos en trimestres usando solo variables numéricas.\n",
    "   - **Esperado:** \n",
    "     - Agrupa los datos por trimestres usando `pd.Grouper()` con `freq='Q'` para obtener promedios.\n",
    "     - Usa los datos de 1 o 2 trimestres anteriores para predecir el siguiente trimestre ajustando modelos de regresión lineal y polinómica.\n",
    "     - Compara los resultados de las predicciones con los precios reales.\n",
    "     - Evalúa la precisión de tus predicciones utilizando métricas como R² y RMSE."
   ]
  },
  {
   "cell_type": "code",
   "execution_count": null,
   "id": "9ae4f5b1",
   "metadata": {},
   "outputs": [],
   "source": [
    "import pandas as pd\n",
    "import numpy as np\n",
    "import seaborn as sns\n",
    "import matplotlib.pyplot as plt\n",
    "from statsmodels.tsa.seasonal import seasonal_decompose\n",
    "df = pd.read_csv(\"avocado.csv\")\n",
    "df_cp = df.copy()\n",
    "df_cp['Date'] = pd.to_datetime(df_cp['Date'])"
   ]
  },
  {
   "cell_type": "markdown",
   "id": "91f48a23",
   "metadata": {},
   "source": [
    "5. **Predicciones Anuales:**\n",
    "   - **Uso de Datos:** Agrupa los datos en años, utilizando únicamente columnas numéricas.\n",
    "   - **Esperado:** \n",
    "     - Agrupa los datos por año utilizando `pd.Grouper()` con `freq='Y'`.\n",
    "     - Usa los datos de 1 o 2 años anteriores para predecir el siguiente año ajustando modelos de regresión lineal y polinómica.\n",
    "     - Evalúa la precisión de tus predicciones utilizando métricas como R² y RMSE."
   ]
  },
  {
   "cell_type": "code",
   "execution_count": null,
   "id": "c1f2e78b",
   "metadata": {},
   "outputs": [],
   "source": [
    "import pandas as pd\n",
    "import numpy as np\n",
    "import seaborn as sns\n",
    "import matplotlib.pyplot as plt\n",
    "from statsmodels.tsa.seasonal import seasonal_decompose\n",
    "df = pd.read_csv(\"avocado.csv\")\n",
    "df_cp = df.copy()\n",
    "df_cp['Date'] = pd.to_datetime(df_cp['Date'])"
   ]
  },
  {
   "cell_type": "markdown",
   "id": "147db94a",
   "metadata": {},
   "source": [
    "6. **Desarrollo de Modelos de Regresión Múltiple:** \n",
    "   - **Uso de Datos:** Selecciona varias variables numéricas como `Total Volume`, `4046`, `4225`, `4770`, y `Total Bags` para predecir `AveragePrice`.\n",
    "   - **Esperado:** \n",
    "     - Define las variables independientes (X) y dependientes (y).\n",
    "     - Ajusta modelos de regresión múltiple.\n",
    "     - Compara su rendimiento utilizando métricas como R² y RMSE y discute las implicaciones de los resultados."
   ]
  },
  {
   "cell_type": "code",
   "execution_count": null,
   "id": "85f4a1e5",
   "metadata": {},
   "outputs": [],
   "source": [
    "import pandas as pd\n",
    "import numpy as np\n",
    "import seaborn as sns\n",
    "import matplotlib.pyplot as plt\n",
    "from statsmodels.tsa.seasonal import seasonal_decompose\n",
    "df = pd.read_csv(\"avocado.csv\")\n",
    "df_cp = df.copy()\n",
    "df_cp['Date'] = pd.to_datetime(df_cp['Date'])"
   ]
  },
  {
   "cell_type": "markdown",
   "id": "448180ca",
   "metadata": {},
   "source": [
    "7. **Análisis de Coeficientes de Regresión Múltiple:**\n",
    "   - **Uso de Datos:** Examina los coeficientes de los modelos de regresión múltiple ajustados.\n",
    "   - **Esperado:** \n",
    "     - Extrae los coeficientes del modelo ajustado.\n",
    "     - Interpreta los coeficientes para entender el impacto de cada variable numérica en `AveragePrice`.\n",
    "     - Comenta sobre las variables más significativas y su relevancia."
   ]
  },
  {
   "cell_type": "code",
   "execution_count": null,
   "id": "fb37a6b7",
   "metadata": {},
   "outputs": [],
   "source": [
    "import pandas as pd\n",
    "import numpy as np\n",
    "import seaborn as sns\n",
    "import matplotlib.pyplot as plt\n",
    "from statsmodels.tsa.seasonal import seasonal_decompose\n",
    "df = pd.read_csv(\"avocado.csv\")\n",
    "df_cp = df.copy()\n",
    "df_cp['Date'] = pd.to_datetime(df_cp['Date'])"
   ]
  },
  {
   "cell_type": "markdown",
   "id": "c2cbb59c",
   "metadata": {},
   "source": [
    "8. **Modelos de Regresión para Diferenciar Volúmenes de Ventas:**\n",
    "   - **Uso de Datos:** Usa `AveragePrice`, `Total Volume`, `4046`, `4225`, y `4770`.\n",
    "   - **Esperado:** \n",
    "     - Ajusta modelos de regresión para analizar cómo los diferentes volúmenes de ventas afectan `AveragePrice`.\n",
    "     - Compara los resultados de regresión lineal y polinómica.\n",
    "     - Presenta las conclusiones de tus análisis."
   ]
  },
  {
   "cell_type": "code",
   "execution_count": null,
   "id": "4ed7a30e",
   "metadata": {},
   "outputs": [],
   "source": [
    "import pandas as pd\n",
    "import numpy as np\n",
    "import seaborn as sns\n",
    "import matplotlib.pyplot as plt\n",
    "from statsmodels.tsa.seasonal import seasonal_decompose\n",
    "df = pd.read_csv(\"avocado.csv\")\n",
    "df_cp = df.copy()\n",
    "df_cp['Date'] = pd.to_datetime(df_cp['Date'])"
   ]
  },
  {
   "cell_type": "markdown",
   "id": "f758db11",
   "metadata": {},
   "source": [
    "9. **Análisis de la Influencia de las Ventas Totales en el Precio Promedio:**\n",
    "   - **Uso de Datos:** Usa `Total Volume`, `AveragePrice`, y `Total Bags`.\n",
    "   - **Esperado:** \n",
    "     - Ajusta un modelo de regresión lineal y polinómica para ver cómo varía `AveragePrice` en función del volumen total de ventas.\n",
    "     - Evalúa la significancia de los coeficientes y discute su relevancia."
   ]
  },
  {
   "cell_type": "code",
   "execution_count": null,
   "id": "ebdd909e",
   "metadata": {},
   "outputs": [],
   "source": [
    "import pandas as pd\n",
    "import numpy as np\n",
    "import seaborn as sns\n",
    "import matplotlib.pyplot as plt\n",
    "from statsmodels.tsa.seasonal import seasonal_decompose\n",
    "df = pd.read_csv(\"avocado.csv\")\n",
    "df_cp = df.copy()\n",
    "df_cp['Date'] = pd.to_datetime(df_cp['Date'])"
   ]
  },
  {
   "cell_type": "markdown",
   "id": "2ad8ddb6",
   "metadata": {},
   "source": [
    "10. **Regresión para Predecir el Precio Promedio Según el Volumen de Aguacates por Tipo:**\n",
    "    - **Uso de Datos:** Usa `AveragePrice`, `4046`, `4225`, `4770`, y `Total Volume`.\n",
    "    - **Esperado:** \n",
    "      - Ajusta modelos de regresión lineal y polinómica.\n",
    "      - Evalúa la efectividad de ambos modelos utilizando métricas como R² y RMSE.\n",
    "      - Discute cuál modelo ofrece mejores predicciones y por qué, basándote en los resultados obtenidos."
   ]
  },
  {
   "cell_type": "code",
   "execution_count": null,
   "id": "8fd83ded",
   "metadata": {},
   "outputs": [],
   "source": [
    "import pandas as pd\n",
    "import numpy as np\n",
    "import seaborn as sns\n",
    "import matplotlib.pyplot as plt\n",
    "from statsmodels.tsa.seasonal import seasonal_decompose\n",
    "df = pd.read_csv(\"avocado.csv\")\n",
    "df_cp = df.copy()\n",
    "df_cp['Date'] = pd.to_datetime(df_cp['Date'])"
   ]
  }
 ],
 "metadata": {
  "kernelspec": {
   "display_name": "usr",
   "language": "python",
   "name": "python3"
  },
  "language_info": {
   "codemirror_mode": {
    "name": "ipython",
    "version": 3
   },
   "file_extension": ".py",
   "mimetype": "text/x-python",
   "name": "python",
   "nbconvert_exporter": "python",
   "pygments_lexer": "ipython3",
   "version": "3.12.3"
  }
 },
 "nbformat": 4,
 "nbformat_minor": 5
}
