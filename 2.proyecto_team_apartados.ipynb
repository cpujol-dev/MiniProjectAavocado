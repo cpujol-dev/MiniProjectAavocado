{
 "cells": [
  {
   "cell_type": "markdown",
   "id": "dd52e76c",
   "metadata": {},
   "source": [
    "### 2. **Gráficos para Visualización de Datos**\n",
    "**Resumen:** La visualización de datos es clave para identificar patrones y relaciones entre diferentes variables. Los gráficos apropiados pueden proporcionar información valiosa sobre el comportamiento de los precios y volúmenes de ventas."
   ]
  },
  {
   "cell_type": "markdown",
   "id": "09d1fafd",
   "metadata": {},
   "source": [
    "1. **Gráfico de Violín de Volumen de Ventas por Región:**\n",
    "   - **Uso de Datos:** Usa las columnas `Total Volume` y `region`.\n",
    "   - **Esperado:** Visualiza la distribución de ventas en diferentes regiones.\n",
    "     - Utiliza la función `violinplot` de `seaborn` para crear gráficos de violín.\n",
    "     - Configura los ejes para mostrar la relación entre `Total Volume` y `region`.\n",
    "     - Añade etiquetas y títulos usando `plt.title()` y `plt.xlabel()` para facilitar la interpretación."
   ]
  },
  {
   "cell_type": "code",
   "execution_count": null,
   "id": "cc6a93fb",
   "metadata": {},
   "outputs": [],
   "source": [
    "import pandas as pd\n",
    "import numpy as np\n",
    "import seaborn as sns\n",
    "import matplotlib.pyplot as plt\n",
    "from statsmodels.tsa.seasonal import seasonal_decompose\n",
    "df = pd.read_csv(\"avocado.csv\")\n",
    "df_cp = df.copy()\n",
    "df_cp['Date'] = pd.to_datetime(df_cp['Date'])\n",
    "#df_cp"
   ]
  },
  {
   "cell_type": "markdown",
   "id": "a8b096ac",
   "metadata": {},
   "source": [
    "2. **Boxplot Comparativo de Precios entre Años:**\n",
    "   - **Uso de Datos:** Usa las columnas `AveragePrice` y `year`.\n",
    "   - **Esperado:** Genera boxplots para comparar la distribución de precios.\n",
    "     - Utiliza `boxplot` de `seaborn` para crear boxplots que comparen `AveragePrice` entre diferentes años.\n",
    "     - Asegúrate de que cada boxplot represente un año diferente.\n",
    "     - Incluye etiquetas y títulos descriptivos usando `plt.title()`."
   ]
  },
  {
   "cell_type": "code",
   "execution_count": null,
   "id": "8b26d877",
   "metadata": {},
   "outputs": [],
   "source": [
    "import pandas as pd\n",
    "import numpy as np\n",
    "import seaborn as sns\n",
    "import matplotlib.pyplot as plt\n",
    "from statsmodels.tsa.seasonal import seasonal_decompose\n",
    "df = pd.read_csv(\"avocado.csv\")\n",
    "df_cp = df.copy()\n",
    "df_cp['Date'] = pd.to_datetime(df_cp['Date'])"
   ]
  },
  {
   "cell_type": "markdown",
   "id": "6ffe88c3",
   "metadata": {},
   "source": [
    "3. **Histograma de Volumen Total de Ventas:**\n",
    "   - **Uso de Datos:** Usa la columna `Total Volume`.\n",
    "   - **Esperado:** Crea un histograma para mostrar la distribución del volumen total de ventas.\n",
    "     - Utiliza `hist()` de `matplotlib` para crear el histograma.\n",
    "     - Ajusta el número de bins para una visualización clara usando el parámetro `bins`.\n",
    "     - Añade etiquetas y un título que describa lo que se muestra.\n",
    "\n"
   ]
  },
  {
   "cell_type": "code",
   "execution_count": null,
   "id": "0774a632",
   "metadata": {},
   "outputs": [],
   "source": [
    "import pandas as pd\n",
    "import numpy as np\n",
    "import seaborn as sns\n",
    "import matplotlib.pyplot as plt\n",
    "from statsmodels.tsa.seasonal import seasonal_decompose\n",
    "df = pd.read_csv(\"avocado.csv\")\n",
    "df_cp = df.copy()\n",
    "df_cp['Date'] = pd.to_datetime(df_cp['Date'])"
   ]
  },
  {
   "cell_type": "markdown",
   "id": "cf5819eb",
   "metadata": {},
   "source": [
    "4. **Gráfico de Barras de Ventas por Tipo de Bolsa:**\n",
    "   - **Uso de Datos:** Utiliza las columnas `Total Bags`, `Small Bags`, `Large Bags` y `XLarge Bags`.\n",
    "   - **Esperado:** Compara las ventas de diferentes tipos de bolsas.\n",
    "     - Suma los volúmenes de ventas por tipo de bolsa utilizando `sum()`.\n",
    "     - Crea un gráfico de barras con `plt.bar()` para mostrar las diferencias en ventas.\n",
    "     - Asegúrate de incluir etiquetas para cada tipo de bolsa.\n"
   ]
  },
  {
   "cell_type": "code",
   "execution_count": null,
   "id": "182f0749",
   "metadata": {},
   "outputs": [],
   "source": [
    "import pandas as pd\n",
    "import numpy as np\n",
    "import seaborn as sns\n",
    "import matplotlib.pyplot as plt\n",
    "from statsmodels.tsa.seasonal import seasonal_decompose\n",
    "df = pd.read_csv(\"avocado.csv\")\n",
    "df_cp = df.copy()\n",
    "df_cp['Date'] = pd.to_datetime(df_cp['Date'])"
   ]
  },
  {
   "cell_type": "markdown",
   "id": "ac61e8bb",
   "metadata": {},
   "source": [
    "5. **Gráfico de Líneas de Precios Promedios por Año:**\n",
    "   - **Uso de Datos:** Utiliza las columnas `AveragePrice` y `year`.\n",
    "   - **Esperado:** Visualiza la tendencia de precios promedio a lo largo de los años.\n",
    "     - Agrupa los datos por `year` y calcula el promedio de `AveragePrice`.\n",
    "     - Usa `plt.plot()` para crear un gráfico de líneas que muestre la evolución de precios.\n",
    "     - Añade un título y etiquetas descriptivas a los ejes usando `plt.title()` y `plt.xlabel()`.\n"
   ]
  },
  {
   "cell_type": "code",
   "execution_count": null,
   "id": "590c6c65",
   "metadata": {},
   "outputs": [],
   "source": [
    "import pandas as pd\n",
    "import numpy as np\n",
    "import seaborn as sns\n",
    "import matplotlib.pyplot as plt\n",
    "from statsmodels.tsa.seasonal import seasonal_decompose\n",
    "df = pd.read_csv(\"avocado.csv\")\n",
    "df_cp = df.copy()\n",
    "df_cp['Date'] = pd.to_datetime(df_cp['Date'])"
   ]
  }
 ],
 "metadata": {
  "kernelspec": {
   "display_name": "usr",
   "language": "python",
   "name": "python3"
  },
  "language_info": {
   "codemirror_mode": {
    "name": "ipython",
    "version": 3
   },
   "file_extension": ".py",
   "mimetype": "text/x-python",
   "name": "python",
   "nbconvert_exporter": "python",
   "pygments_lexer": "ipython3",
   "version": "3.12.3"
  }
 },
 "nbformat": 4,
 "nbformat_minor": 5
}
