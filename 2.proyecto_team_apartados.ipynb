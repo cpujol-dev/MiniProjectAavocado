{
 "cells": [
  {
   "cell_type": "markdown",
   "id": "dd52e76c",
   "metadata": {},
   "source": [
    "### 2. **Gráficos para Visualización de Datos**\n",
    "**Resumen:** La visualización de datos es clave para identificar patrones y relaciones entre diferentes variables. Los gráficos apropiados pueden proporcionar información valiosa sobre el comportamiento de los precios y volúmenes de ventas."
   ]
  },
  {
   "cell_type": "markdown",
   "id": "09d1fafd",
   "metadata": {},
   "source": [
    "1. **Gráfico de Violín de Volumen de Ventas por Región:**\n",
    "   - **Uso de Datos:** Usa las columnas `Total Volume` y `region`.\n",
    "   - **Esperado:** Visualiza la distribución de ventas en diferentes regiones.\n",
    "     - Utiliza la función `violinplot` de `seaborn` para crear gráficos de violín.\n",
    "     - Configura los ejes para mostrar la relación entre `Total Volume` y `region`.\n",
    "     - Añade etiquetas y títulos usando `plt.title()` y `plt.xlabel()` para facilitar la interpretación."
   ]
  },
  {
   "cell_type": "code",
   "execution_count": null,
   "id": "cc6a93fb",
   "metadata": {},
   "outputs": [],
   "source": [
    "import pandas as pd\n",
    "import numpy as np\n",
    "import seaborn as sns\n",
    "import matplotlib.pyplot as plt\n",
    "from statsmodels.tsa.seasonal import seasonal_decompose\n",
    "\n",
    "df = pd.read_csv(\"avocado.csv\")\n",
    "df_cp = df.copy()\n",
    "df_cp['Date'] = pd.to_datetime(df_cp['Date'])\n",
    "\n",
    "\n",
    "from statsmodels.tsa.seasonal import seasonal_decompose\n",
    "\n",
    "\n",
    "# Para seleccionar unicamente las regiones propias , descartamos Total US para la vista gráfica\n",
    "#df_cp_cleaned=df_cp[df_cp.region != 'TotalUS']\n",
    "#df_cp_CA=df_cp[df_cp.region == 'California']\n",
    "#df_cp_noCA=df_cp[(df_cp.region != 'TotalUS') & (df_cp.region != \"California\")]\n",
    "#df_cp_noCA_conventional=df_cp[(df_cp.region != 'TotalUS') & (df_cp.region != \"California\") & (df_cp.type=='conventional')]\n",
    "#df_cp_noCA_organic=df_cp[(df_cp.region != 'TotalUS') & (df_cp.region != \"California\") & (df_cp.type=='organic')]\n",
    "#df_cp_organic=df_cp[(df_cp.region != 'TotalUS') & (df_cp.type=='organic')]\n",
    "#df_cp_conventional=df_cp[(df_cp.region != 'TotalUS') & (df_cp.type=='conventional')]\n",
    "#df_cp_Denver=df_cp[df_cp.region == 'Denver']\n",
    "\n",
    "region_classification = {\n",
    "        'Albany': 'City',\n",
    "        'Atlanta': 'City',\n",
    "        'BaltimoreWashington': 'Region',\n",
    "        'Boise': 'City',\n",
    "        'Boston': 'City',\n",
    "        'BuffaloRochester': 'Region',\n",
    "        'California': 'GreaterRegion',\n",
    "        'Charlotte': 'City',\n",
    "        'Chicago': 'City',\n",
    "        'CincinnatiDayton': 'Region',\n",
    "        'Columbus': 'City',\n",
    "        'DallasFtWorth': 'Region',\n",
    "        'Denver': 'City',\n",
    "        'Detroit': 'City',\n",
    "        'GrandRapids': 'City',\n",
    "        'GreatLakes': 'GreaterRegion',\n",
    "        'HarrisburgScranton': 'Region',\n",
    "        'HartfordSpringfield': 'Region',\n",
    "        'Houston': 'City',\n",
    "        'Indianapolis': 'City',\n",
    "        'Jacksonville': 'City',\n",
    "        'LasVegas': 'City',\n",
    "        'LosAngeles': 'City',\n",
    "        'Louisville': 'City',\n",
    "        'MiamiFtLauderdale': 'Region',\n",
    "        'Midsouth': 'GreaterRegion',\n",
    "        'Nashville': 'City',\n",
    "        'NewOrleansMobile': 'Region',\n",
    "        'NewYork': 'City',\n",
    "        'Northeast': 'GreaterRegion',\n",
    "        'NorthernNewEngland': 'Region',\n",
    "        'Orlando': 'City',\n",
    "        'Philadelphia': 'City',\n",
    "        'PhoenixTucson': 'Region',\n",
    "        'Pittsburgh': 'City',\n",
    "        'Plains': 'GreaterRegion',\n",
    "        'Portland': 'City',\n",
    "        'RaleighGreensboro': 'Region',\n",
    "        'RichmondNorfolk': 'Region',\n",
    "        'Roanoke': 'City',\n",
    "        'Sacramento': 'City',\n",
    "        'SanDiego': 'City',\n",
    "        'SanFrancisco': 'City',\n",
    "        'Seattle': 'City',\n",
    "        'SouthCarolina': 'Region',\n",
    "        'SouthCentral': 'GreaterRegion',\n",
    "        'Southeast': 'GreaterRegion',\n",
    "        'Spokane': 'City',\n",
    "        'StLouis': 'City',\n",
    "        'Syracuse': 'City',\n",
    "        'Tampa': 'City',\n",
    "        'TotalUS': 'TotalUS',\n",
    "        'West': 'GreaterRegion',\n",
    "        'WestTexNewMexico': 'Region'\n",
    "}\n",
    "df_cp['RegionClass'] = df_cp['region'].map(region_classification)\n",
    "df_cp_cleaned=df_cp[df_cp.region != 'TotalUS']\n",
    "df_cp_GreaterRegion=df_cp_cleaned[df_cp_cleaned['RegionClass']=='GreaterRegion']\n",
    "df_cp_TotalUS=df_cp[df_cp['region']=='TotalUS']\n",
    "df_cp_GreaterRegion_conv=df_cp_GreaterRegion[df_cp_GreaterRegion['type']=='conventional']\n",
    "df_cp_GreaterRegion_org=df_cp_GreaterRegion[df_cp_GreaterRegion['type']=='organic']"
   ]
  },
  {
   "cell_type": "code",
   "execution_count": null,
   "id": "164a7180-3092-41b6-abe1-8fcff0cbd260",
   "metadata": {},
   "outputs": [],
   "source": [
    "plt.figure(figsize=(10,6))\n",
    "sns.set_style('whitegrid')\n",
    "sns.violinplot(x='region',y='Total Volume', data=df_cp_GreaterRegion)\n",
    "plt.xlabel('Region',{'fontsize' : 'large'})\n",
    "plt.ylabel('Total Volume',{'fontsize':'large'})\n",
    "plt.title(\"Total Volume en las grandes regiones excepto TotalUS\",{'fontsize':10})\n",
    "plt.show()"
   ]
  },
  {
   "cell_type": "code",
   "execution_count": null,
   "id": "d2c080eb-2651-4aa5-83e3-29cb806ee225",
   "metadata": {},
   "outputs": [],
   "source": [
    "plt.figure(figsize=(10,6))\n",
    "sns.set_style('whitegrid')\n",
    "sns.violinplot(x='region',y='Total Volume', data=df_cp_TotalUS)\n",
    "plt.xlabel('Region',{'fontsize' : 'large'})\n",
    "plt.ylabel('Total Volume',{'fontsize':'large'})\n",
    "\n",
    "plt.title(\"Total Volume de TotalUS\",{'fontsize':10})\n",
    "\n",
    "plt.show()"
   ]
  },
  {
   "cell_type": "raw",
   "id": "363cb253-83c3-4927-a0a8-6ba7a5eba9f0",
   "metadata": {},
   "source": [
    "##### Conclusiones: En el gráfico de violín se observan la presencia de dos valores de concentración de datos , estas dos zonas aparecen en todas las regiones.\n",
    "##### Ello induce a pensar que hay dos categorias de datos en cada región."
   ]
  },
  {
   "cell_type": "code",
   "execution_count": null,
   "id": "22ba8a37-a220-4873-8d37-0f4ee69a5914",
   "metadata": {},
   "outputs": [],
   "source": [
    "plt.figure(figsize=(10,6))\n",
    "sns.set_style('whitegrid')\n",
    "sns.violinplot(x='region',y='Total Volume', data=df_cp_GreaterRegion_conv)\n",
    "plt.xlabel('Region',{'fontsize' : 'large'})\n",
    "plt.ylabel('Total Volume',{'fontsize':'large'})\n",
    "\n",
    "plt.title(\"Total Volume de aguacate convencional\",{'fontsize':10})\n",
    "\n",
    "plt.show()"
   ]
  },
  {
   "cell_type": "code",
   "execution_count": null,
   "id": "8c9e78d5-5ab5-41cb-9ba0-91a96845b438",
   "metadata": {},
   "outputs": [],
   "source": [
    "plt.figure(figsize=(10,6))\n",
    "sns.set_style('whitegrid')\n",
    "sns.violinplot(x='region',y='Total Volume', data=df_cp_GreaterRegion_org)\n",
    "plt.xlabel('Region',{'fontsize' : 'large'})\n",
    "plt.ylabel('Total Volume',{'fontsize':'large'})\n",
    "plt.title(\"Total Volume de aguacate orgánico\",{'fontsize':10})\n",
    "\n",
    "plt.show()"
   ]
  },
  {
   "cell_type": "markdown",
   "id": "75d9e717-b421-40d1-a10f-23d5a259029a",
   "metadata": {},
   "source": [
    "##### Exploramos qué regiones son las mayores contribuyentes al Total Volume de Ventas"
   ]
  },
  {
   "cell_type": "code",
   "execution_count": null,
   "id": "d77d9ac5-5fdd-46e8-8eeb-7b51990823c1",
   "metadata": {},
   "outputs": [],
   "source": [
    "\n",
    "volume_by_region = df_cp_cleaned.groupby('region')['Total Volume'].sum().sort_values(ascending=False).to_frame()\n",
    "\n",
    "plt.figure(figsize=(14, 8))\n",
    "\n",
    "sns.barplot(data=volume_by_region, x='region', y='Total Volume', hue='region', palette='viridis')\n",
    "\n",
    "\n",
    "plt.xticks(rotation=90)\n",
    "\n",
    "# Añadir título y etiquetas a los ejes\n",
    "plt.title('Suma del Volumen Total de Ventas por Región excepto TotalUS')\n",
    "plt.xlabel('Región')\n",
    "plt.ylabel('Volumen Total de Ventas')\n",
    "\n",
    "# Mostrar el gráfico\n",
    "plt.show()"
   ]
  },
  {
   "cell_type": "markdown",
   "id": "a8b096ac",
   "metadata": {},
   "source": [
    "2. **Boxplot Comparativo de Precios entre Años:**\n",
    "   - **Uso de Datos:** Usa las columnas `AveragePrice` y `year`.\n",
    "   - **Esperado:** Genera boxplots para comparar la distribución de precios.\n",
    "     - Utiliza `boxplot` de `seaborn` para crear boxplots que comparen `AveragePrice` entre diferentes años.\n",
    "     - Asegúrate de que cada boxplot represente un año diferente.\n",
    "     - Incluye etiquetas y títulos descriptivos usando `plt.title()`."
   ]
  },
  {
   "cell_type": "code",
   "execution_count": null,
   "id": "8b26d877",
   "metadata": {},
   "outputs": [],
   "source": [
    "import pandas as pd\n",
    "import numpy as np\n",
    "import seaborn as sns\n",
    "import matplotlib.pyplot as plt\n",
    "#from statsmodels.tsa.seasonal import seasonal_decompose\n",
    "df = pd.read_csv(\"avocado.csv\")\n",
    "df_cp = df.copy()\n",
    "df_cp['Date'] = pd.to_datetime(df_cp['Date'])\n",
    "\n",
    "plt.figure(figsize=(12, 6))\n",
    "plt.title('Distribución de Precios Promedios de Aguacates por Año sin TotalUS',{'fontsize':10})\n",
    "plt.xlabel('Año')\n",
    "plt.ylabel('Average Price')\n",
    "sns.boxplot(data=df_cp_cleaned, x='year', y='AveragePrice', hue='year', palette='Pastel1')\n",
    "sns.stripplot(data=df_cp_cleaned, x='year', y='AveragePrice',alpha=0.3)\n",
    "plt.show()"
   ]
  },
  {
   "cell_type": "raw",
   "id": "b0f04595-33cf-4d9a-a155-22f297b18bcd",
   "metadata": {},
   "source": [
    "##### En el boxplot incluyendo todos las regiones se observan numerosos outliers.\n",
    "##### En el año 2016 hay mayor dispersión aunque la mediana es practicamente la misma."
   ]
  },
  {
   "cell_type": "code",
   "execution_count": null,
   "id": "92ed0271-7702-4641-9646-a3d48e5aae15",
   "metadata": {},
   "outputs": [],
   "source": [
    "import pandas as pd\n",
    "import numpy as np\n",
    "import seaborn as sns\n",
    "import matplotlib.pyplot as plt\n",
    "from statsmodels.tsa.seasonal import seasonal_decompose\n",
    "df = pd.read_csv(\"avocado.csv\")\n",
    "df_cp = df.copy()\n",
    "df_cp['Date'] = pd.to_datetime(df_cp['Date'])\n",
    "\n",
    "plt.figure(figsize=(12, 6))\n",
    "plt.title('Distribución de AveragePrice en Grandes Regiones y por año',{'fontsize':10})\n",
    "plt.xlabel('Año')\n",
    "plt.ylabel('Average Price')\n",
    "sns.boxplot(data=df_cp_GreaterRegion, x='year', y='AveragePrice', hue='year', palette='Pastel1', notch=True)\n",
    "sns.stripplot(data=df_cp_GreaterRegion, x='year', y='AveragePrice',alpha=0.3)\n",
    "plt.show()"
   ]
  },
  {
   "cell_type": "markdown",
   "id": "9272c469-756b-4c46-b925-403592a401b9",
   "metadata": {},
   "source": [
    "##### Conclusiones: las ciudades y regiones al ser más pequeñas introducen más variabilidad en el precio"
   ]
  },
  {
   "cell_type": "code",
   "execution_count": null,
   "id": "1775f24a-fd10-4f90-8b25-28cc439b5e7e",
   "metadata": {},
   "outputs": [],
   "source": [
    "plt.figure(figsize=(12,6))\n",
    "\n",
    "plt.xlabel('Año',{'fontsize' : 'large'})\n",
    "plt.ylabel('Region',{'fontsize':'large'})\n",
    "plt.title(\" Distribución Average Price convencional por año en Grandes Regiones\",{'fontsize':10})\n",
    "sns.stripplot(data=df_cp_GreaterRegion_conv, x='year', y='AveragePrice',alpha=0.3)\n",
    "sns.boxplot(data=df_cp_GreaterRegion_conv, x='year', y='AveragePrice', hue='year', palette='Pastel1', notch=True)\n",
    "\n",
    "plt.show()"
   ]
  },
  {
   "cell_type": "code",
   "execution_count": null,
   "id": "fe8f0fff-ee7b-4ee5-a304-212b68dc0301",
   "metadata": {},
   "outputs": [],
   "source": [
    "plt.figure(figsize=(12,6))\n",
    "sns.boxplot(data=df_cp_GreaterRegion_org, x='year', y='AveragePrice', hue='year', palette='Pastel1', notch=True)\n",
    "plt.xlabel('Año',{'fontsize' : 'large'})\n",
    "plt.ylabel('Region',{'fontsize':'large'})\n",
    "plt.title(\"Distribución Average Price organico por año en Grandes Regiones\",{'fontsize':10})\n",
    "sns.stripplot(data=df_cp_GreaterRegion_org, x='year', y='AveragePrice',alpha=0.3)\n",
    "plt.show()"
   ]
  },
  {
   "cell_type": "markdown",
   "id": "6ffe88c3",
   "metadata": {},
   "source": [
    "3. **Histograma de Volumen Total de Ventas:**\n",
    "   - **Uso de Datos:** Usa la columna `Total Volume`.\n",
    "   - **Esperado:** Crea un histograma para mostrar la distribución del volumen total de ventas.\n",
    "     - Utiliza `hist()` de `matplotlib` para crear el histograma.\n",
    "     - Ajusta el número de bins para una visualización clara usando el parámetro `bins`.\n",
    "     - Añade etiquetas y un título que describa lo que se muestra.\n",
    "\n"
   ]
  },
  {
   "cell_type": "code",
   "execution_count": null,
   "id": "1f9d2080-23e1-4173-9c38-c01e7f0c506b",
   "metadata": {},
   "outputs": [],
   "source": [
    "# Configurar el tamaño del gráfico\n",
    "plt.figure(figsize=(10, 6))\n",
    "\n",
    "# Crear el histograma para la columna 'Total Volume'\n",
    "plt.hist(df_cp_cleaned['Total Volume'], bins=100, color='skyblue', edgecolor='black')\n",
    "\n",
    "# Añadir título y etiquetas a los ejes\n",
    "plt.title('Histograma de Total Volume excepto TotalUS')\n",
    "plt.xlabel('Total Volume')\n",
    "plt.ylabel('Frecuencia')\n",
    "\n",
    "# Mostrar el gráfico\n",
    "plt.show()"
   ]
  },
  {
   "cell_type": "code",
   "execution_count": null,
   "id": "0774a632",
   "metadata": {},
   "outputs": [],
   "source": [
    "import pandas as pd\n",
    "import numpy as np\n",
    "import seaborn as sns\n",
    "import matplotlib.pyplot as plt\n",
    "from statsmodels.tsa.seasonal import seasonal_decompose\n",
    "df = pd.read_csv(\"avocado.csv\")\n",
    "df_cp = df.copy()\n",
    "df_cp['Date'] = pd.to_datetime(df_cp['Date'])\n",
    "plt.figure(figsize=(12,6))\n",
    "plt.xlim(0.0,0.8*10**7)\n",
    "#plt.ylim(0.0,2*10**-6)\n",
    "plt.title('Histograma de Ventas Totales en Greater Regions', fontweight = \"bold\")\n",
    "plt.hist(df_cp_GreaterRegion['Total Volume'], bins= 100, density=0.5, color='green',alpha=0.7)\n",
    "#plt.hist(df_cp_GreaterRegion_org['Total Volume'], bins= 100, density=0.5, color='green',alpha=0.7)\n",
    "plt.xlabel('Ventas')\n",
    "plt.ylabel('Frecuencia')\n",
    "plt.show()"
   ]
  },
  {
   "cell_type": "code",
   "execution_count": null,
   "id": "d47416c3-0e76-4ef5-a590-da441209a82e",
   "metadata": {},
   "outputs": [],
   "source": [
    "# plt.title('Histograma de Ventas Totales Tipo Convencional', fontweight = \"bold\")\n",
    "plt.hist(df_cp_conventional['Total Volume'], bins= 200, density=0.5, color='green',alpha=0.7)\n",
    "plt.show()"
   ]
  },
  {
   "cell_type": "code",
   "execution_count": null,
   "id": "6b1a231b-fe6b-43e9-a19b-60ba6987ea0b",
   "metadata": {},
   "outputs": [],
   "source": [
    "plt.title('Histograma de Ventas Totales Tipo organico', fontweight = \"bold\")\n",
    "plt.hist(df_cp_organic['Total Volume'], bins= 150, density=0.5, color='green',alpha=0.7)\n",
    "plt.show()"
   ]
  },
  {
   "cell_type": "markdown",
   "id": "4ccab695-be0a-49d1-b430-d48eebee064b",
   "metadata": {},
   "source": [
    "4. **Gráfico de Barras de Ventas por Tipo de Bolsa:**\n",
    "   - **Uso de Datos:** Utiliza las columnas `Total Bags`, `Small Bags`, `Large Bags` y `XLarge Bags`.\n",
    "   - **Esperado:** Compara las ventas de diferentes tipos de bolsas.\n",
    "     - Suma los volúmenes de ventas por tipo de bolsa utilizando `sum()`.\n",
    "     - Crea un gráfico de barras con `plt.bar()` para mostrar las diferencias en ventas.\n",
    "     - Asegúrate de incluir etiquetas para cada tipo de bolsa.\n"
   ]
  },
  {
   "cell_type": "code",
   "execution_count": null,
   "id": "182f0749",
   "metadata": {},
   "outputs": [],
   "source": [
    "import pandas as pd\n",
    "import numpy as np\n",
    "import seaborn as sns\n",
    "import matplotlib.pyplot as plt\n",
    "from statsmodels.tsa.seasonal import seasonal_decompose\n",
    "df = pd.read_csv(\"avocado.csv\")\n",
    "df_cp = df.copy()\n",
    "df_cp['Date'] = pd.to_datetime(df_cp['Date'])\n",
    "\n",
    "\n",
    "tipos_bolsas=['Total Bags','Small Bags','Large Bags','XLarge Bags']\n",
    "ventas=[df_cp['Total Bags'].sum(),df_cp['Small Bags'].sum(),df_cp['Large Bags'].sum(),df_cp['XLarge Bags'].sum()]\n",
    "\n",
    "plt.title('Grafico de Barras por Tipo de Bolsa', fontweight = \"bold\")\n",
    "plt.xlabel(\"Tipo de Bolsa\")\n",
    "plt.ylabel(\"Ventas\")\n",
    "plt.bar(tipos_bolsas,ventas, color ='green', width=0.4)"
   ]
  },
  {
   "cell_type": "code",
   "execution_count": null,
   "id": "692dce6f-85f9-4d28-8fa0-3a42001254fd",
   "metadata": {},
   "outputs": [],
   "source": [
    "ventas_org=[df_cp_organic['Total Bags'].sum(),df_cp_organic['Small Bags'].sum(),df_cp_organic['Large Bags'].sum(),df_cp_organic['XLarge Bags'].sum()]\n",
    "plt.title('Grafico de Barras por Tipo de Bolsa Organica', fontweight = \"bold\")\n",
    "plt.xlabel(\"Tipo de Bolsa\")\n",
    "plt.ylabel(\"Ventas\")\n",
    "plt.bar(tipos_bolsas,ventas_org, color ='green', width=0.4)"
   ]
  },
  {
   "cell_type": "code",
   "execution_count": null,
   "id": "97cf77a2-2084-49b9-aab7-6c4d9a14fee7",
   "metadata": {},
   "outputs": [],
   "source": [
    "ventas_conv=[df_cp_conventional['Total Bags'].sum(),df_cp_conventional['Small Bags'].sum(),df_cp_conventional['Large Bags'].sum(),df_cp_conventional['XLarge Bags'].sum()]\n",
    "plt.title('Grafico de Barras por Tipo de Bolsa Convencional', fontweight = \"bold\")\n",
    "plt.xlabel(\"Tipo de Bolsa\")\n",
    "plt.ylabel(\"Ventas\")\n",
    "plt.bar(tipos_bolsas,ventas_conv, color ='green', width=0.4)"
   ]
  },
  {
   "cell_type": "markdown",
   "id": "ac61e8bb",
   "metadata": {},
   "source": [
    "5. **Gráfico de Líneas de Precios Promedios por Año:**\n",
    "   - **Uso de Datos:** Utiliza las columnas `AveragePrice` y `year`.\n",
    "   - **Esperado:** Visualiza la tendencia de precios promedio a lo largo de los años.\n",
    "     - Agrupa los datos por `year` y calcula el promedio de `AveragePrice`.\n",
    "     - Usa `plt.plot()` para crear un gráfico de líneas que muestre la evolución de precios.\n",
    "     - Añade un título y etiquetas descriptivas a los ejes usando `plt.title()` y `plt.xlabel()`.\n"
   ]
  },
  {
   "cell_type": "code",
   "execution_count": null,
   "id": "590c6c65",
   "metadata": {},
   "outputs": [],
   "source": [
    "import pandas as pd\n",
    "import numpy as np\n",
    "import seaborn as sns\n",
    "import matplotlib.pyplot as plt\n",
    "from statsmodels.tsa.seasonal import seasonal_decompose\n",
    "df = pd.read_csv(\"avocado.csv\")\n",
    "df_cp = df.copy()\n",
    "df_cp['Date'] = pd.to_datetime(df_cp['Date'])\n",
    "\n",
    "y=df_cp.groupby(['year'])['AveragePrice'].mean()\n",
    "x=(df_cp['year'].unique())\n",
    "plt.xlabel(\"Año\")\n",
    "plt.ylabel(\"AvgPrice\")\n",
    "plt.plot(x, y)\n",
    "plt.show()"
   ]
  },
  {
   "cell_type": "code",
   "execution_count": null,
   "id": "ddbf7f69-7c96-4782-a087-f20ef9ab94cb",
   "metadata": {},
   "outputs": [],
   "source": [
    "df_cp_cleaned['estacion'] = df_cp_cleaned['Date'].dt.month % 12 // 3 + 1\n",
    "print(df_cp_cleaned.head(5))\n",
    "estacion = {1: 'Invierno', 2: 'Primavera', 3: 'Verano', 4: 'Otoño'}\n",
    "df_cp_cleaned['estacion'] = df_cp_cleaned['estacion'].map(estacion)\n",
    "print(\"ya mapeado\")\n",
    "print(df_cp_cleaned.head(5))\n",
    "# Agrupar por estación y calcular el promedio de 'AveragePrice'\n",
    "seasonal_trend = df_cp_cleaned.groupby('estacion')['AveragePrice'].mean()\n",
    "\n",
    "# Graficar la evolución de precios promedio por estación\n",
    "plt.figure(figsize=(10, 6))\n",
    "plt.plot(seasonal_trend.index, seasonal_trend.values, marker='o', color='g')\n",
    "\n",
    "# Añadir título y etiquetas\n",
    "plt.title(' Avg Price por Estación del Año')\n",
    "plt.xlabel('Estación')\n",
    "plt.ylabel('Avg Price')\n",
    "plt.grid(True)\n",
    "plt.xticks(ticks=[1, 2, 3, 4], labels=['Invierno', 'Primavera', 'Verano', 'Otoño'])\n",
    "plt.show()"
   ]
  },
  {
   "cell_type": "code",
   "execution_count": null,
   "id": "9a5d9a61-78a7-49bc-9a4f-5abd61e2941f",
   "metadata": {},
   "outputs": [],
   "source": [
    "average_prices = df_cp['AveragePrice']\n",
    "\n",
    "plt.figure(figsize=(10, 6))\n",
    "sns.histplot(average_prices, bins=100, kde=True, color='skyblue')\n",
    "plt.title('Histogram of Average Avocado Prices')\n",
    "plt.xlabel('Average Price')\n",
    "plt.ylabel('Frequency')\n",
    "plt.show()"
   ]
  },
  {
   "cell_type": "code",
   "execution_count": null,
   "id": "857f9911-06eb-488c-b117-eb6c937e1d49",
   "metadata": {},
   "outputs": [],
   "source": [
    "average_price_by_type = df_cp.groupby('type')['AveragePrice'].mean()\n",
    "print(average_price_by_type)\n",
    "\n",
    "plt.figure(figsize=(10, 6))\n",
    "plt.hist(\n",
    "    [df_cp_cleaned[df_cp_cleaned['type'] == 'conventional']['AveragePrice'], \n",
    "     df_cp_cleaned[df_cp_cleaned['type'] == 'organic']['AveragePrice']],\n",
    "    bins=80, label=['Conventional', 'Organic'], alpha=0.5\n",
    ")\n",
    "\n",
    "# Add titles and labels\n",
    "plt.title(\"Histograma of AveragePrice por tipo\")\n",
    "plt.xlabel(\"Average Price\")\n",
    "plt.ylabel(\"Frequency\")\n",
    "plt.legend(loc='upper right')\n"
   ]
  },
  {
   "cell_type": "code",
   "execution_count": null,
   "id": "858edcb8-7d25-45b1-ae23-b084050e2343",
   "metadata": {},
   "outputs": [],
   "source": []
  }
 ],
 "metadata": {
  "kernelspec": {
   "display_name": "Python 3 (ipykernel)",
   "language": "python",
   "name": "python3"
  },
  "language_info": {
   "codemirror_mode": {
    "name": "ipython",
    "version": 3
   },
   "file_extension": ".py",
   "mimetype": "text/x-python",
   "name": "python",
   "nbconvert_exporter": "python",
   "pygments_lexer": "ipython3",
   "version": "3.10.12"
  }
 },
 "nbformat": 4,
 "nbformat_minor": 5
}
